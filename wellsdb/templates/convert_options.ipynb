{
 "cells": [
  {
   "cell_type": "code",
   "execution_count": 1,
   "metadata": {},
   "outputs": [],
   "source": [
    "import csv"
   ]
  },
  {
   "cell_type": "code",
   "execution_count": 21,
   "metadata": {},
   "outputs": [
    {
     "name": "stdout",
     "output_type": "stream",
     "text": [
      "                    <input type=\"checkbox\" id=\"municipality0\" checked> <label for=\"municipality0\">Allison Park</label><br>\n",
      "                    <input type=\"checkbox\" id=\"municipality1\" checked> <label for=\"municipality1\">Ambridge</label><br>\n",
      "                    <input type=\"checkbox\" id=\"municipality2\" checked> <label for=\"municipality2\">Baden</label><br>\n",
      "                    <input type=\"checkbox\" id=\"municipality3\" checked> <label for=\"municipality3\">Bairdford</label><br>\n",
      "                    <input type=\"checkbox\" id=\"municipality4\" checked> <label for=\"municipality4\">Belle Vernon</label><br>\n",
      "                    <input type=\"checkbox\" id=\"municipality5\" checked> <label for=\"municipality5\">Bethel Park</label><br>\n",
      "                    <input type=\"checkbox\" id=\"municipality6\" checked> <label for=\"municipality6\">Brackenridge</label><br>\n",
      "                    <input type=\"checkbox\" id=\"municipality7\" checked> <label for=\"municipality7\">Braddock</label><br>\n",
      "                    <input type=\"checkbox\" id=\"municipality8\" checked> <label for=\"municipality8\">Bridgeville</label><br>\n",
      "                    <input type=\"checkbox\" id=\"municipality9\" checked> <label for=\"municipality9\">Buena Vista</label><br>\n",
      "                    <input type=\"checkbox\" id=\"municipality10\" checked> <label for=\"municipality10\">Bunola</label><br>\n",
      "                    <input type=\"checkbox\" id=\"municipality11\" checked> <label for=\"municipality11\">Carnegie</label><br>\n",
      "                    <input type=\"checkbox\" id=\"municipality12\" checked> <label for=\"municipality12\">Cecil</label><br>\n",
      "                    <input type=\"checkbox\" id=\"municipality13\" checked> <label for=\"municipality13\">Cheswick</label><br>\n",
      "                    <input type=\"checkbox\" id=\"municipality14\" checked> <label for=\"municipality14\">Clairton</label><br>\n",
      "                    <input type=\"checkbox\" id=\"municipality15\" checked> <label for=\"municipality15\">Clinton</label><br>\n",
      "                    <input type=\"checkbox\" id=\"municipality16\" checked> <label for=\"municipality16\">Coraopolis</label><br>\n",
      "                    <input type=\"checkbox\" id=\"municipality17\" checked> <label for=\"municipality17\">Coulters</label><br>\n",
      "                    <input type=\"checkbox\" id=\"municipality18\" checked> <label for=\"municipality18\">Creighton</label><br>\n",
      "                    <input type=\"checkbox\" id=\"municipality19\" checked> <label for=\"municipality19\">Crescent</label><br>\n",
      "                    <input type=\"checkbox\" id=\"municipality20\" checked> <label for=\"municipality20\">Cuddy</label><br>\n",
      "                    <input type=\"checkbox\" id=\"municipality21\" checked> <label for=\"municipality21\">Curtisville</label><br>\n",
      "                    <input type=\"checkbox\" id=\"municipality22\" checked> <label for=\"municipality22\">Dravosburg</label><br>\n",
      "                    <input type=\"checkbox\" id=\"municipality23\" checked> <label for=\"municipality23\">Duquesne</label><br>\n",
      "                    <input type=\"checkbox\" id=\"municipality24\" checked> <label for=\"municipality24\">East Mc Keesport</label><br>\n",
      "                    <input type=\"checkbox\" id=\"municipality25\" checked> <label for=\"municipality25\">East Pittsburgh</label><br>\n",
      "                    <input type=\"checkbox\" id=\"municipality26\" checked> <label for=\"municipality26\">Elizabeth</label><br>\n",
      "                    <input type=\"checkbox\" id=\"municipality27\" checked> <label for=\"municipality27\">Finleyville</label><br>\n",
      "                    <input type=\"checkbox\" id=\"municipality28\" checked> <label for=\"municipality28\">Freeport</label><br>\n",
      "                    <input type=\"checkbox\" id=\"municipality29\" checked> <label for=\"municipality29\">Gibsonia</label><br>\n",
      "                    <input type=\"checkbox\" id=\"municipality30\" checked> <label for=\"municipality30\">Glassport</label><br>\n",
      "                    <input type=\"checkbox\" id=\"municipality31\" checked> <label for=\"municipality31\">Glenshaw</label><br>\n",
      "                    <input type=\"checkbox\" id=\"municipality32\" checked> <label for=\"municipality32\">Greenock</label><br>\n",
      "                    <input type=\"checkbox\" id=\"municipality33\" checked> <label for=\"municipality33\">Harwick</label><br>\n",
      "                    <input type=\"checkbox\" id=\"municipality34\" checked> <label for=\"municipality34\">Homestead</label><br>\n",
      "                    <input type=\"checkbox\" id=\"municipality35\" checked> <label for=\"municipality35\">Imperial</label><br>\n",
      "                    <input type=\"checkbox\" id=\"municipality36\" checked> <label for=\"municipality36\">Indianola</label><br>\n",
      "                    <input type=\"checkbox\" id=\"municipality37\" checked> <label for=\"municipality37\">Irwin</label><br>\n",
      "                    <input type=\"checkbox\" id=\"municipality38\" checked> <label for=\"municipality38\">Jefferson Hills</label><br>\n",
      "                    <input type=\"checkbox\" id=\"municipality39\" checked> <label for=\"municipality39\">Leetsdale</label><br>\n",
      "                    <input type=\"checkbox\" id=\"municipality40\" checked> <label for=\"municipality40\">Mars</label><br>\n",
      "                    <input type=\"checkbox\" id=\"municipality41\" checked> <label for=\"municipality41\">Mc Donald</label><br>\n",
      "                    <input type=\"checkbox\" id=\"municipality42\" checked> <label for=\"municipality42\">Mc Kees Rocks</label><br>\n",
      "                    <input type=\"checkbox\" id=\"municipality43\" checked> <label for=\"municipality43\">Mc Keesport</label><br>\n",
      "                    <input type=\"checkbox\" id=\"municipality44\" checked> <label for=\"municipality44\">Mcdonald</label><br>\n",
      "                    <input type=\"checkbox\" id=\"municipality45\" checked> <label for=\"municipality45\">Mckeesport</label><br>\n",
      "                    <input type=\"checkbox\" id=\"municipality46\" checked> <label for=\"municipality46\">Monongahela</label><br>\n",
      "                    <input type=\"checkbox\" id=\"municipality47\" checked> <label for=\"municipality47\">Monroeville</label><br>\n",
      "                    <input type=\"checkbox\" id=\"municipality48\" checked> <label for=\"municipality48\">Morgan</label><br>\n",
      "                    <input type=\"checkbox\" id=\"municipality49\" checked> <label for=\"municipality49\">Murrysville</label><br>\n",
      "                    <input type=\"checkbox\" id=\"municipality50\" checked> <label for=\"municipality50\">Natrona Heights</label><br>\n",
      "                    <input type=\"checkbox\" id=\"municipality51\" checked> <label for=\"municipality51\">New Kensington</label><br>\n",
      "                    <input type=\"checkbox\" id=\"municipality52\" checked> <label for=\"municipality52\">North Fayette</label><br>\n",
      "                    <input type=\"checkbox\" id=\"municipality53\" checked> <label for=\"municipality53\">North Fayette Township</label><br>\n",
      "                    <input type=\"checkbox\" id=\"municipality54\" checked> <label for=\"municipality54\">North Versailles</label><br>\n",
      "                    <input type=\"checkbox\" id=\"municipality55\" checked> <label for=\"municipality55\">Oakdale</label><br>\n",
      "                    <input type=\"checkbox\" id=\"municipality56\" checked> <label for=\"municipality56\">Oakmont</label><br>\n",
      "                    <input type=\"checkbox\" id=\"municipality57\" checked> <label for=\"municipality57\">Pitcairn</label><br>\n",
      "                    <input type=\"checkbox\" id=\"municipality58\" checked> <label for=\"municipality58\">Pittsburgh</label><br>\n",
      "                    <input type=\"checkbox\" id=\"municipality59\" checked> <label for=\"municipality59\">Plum</label><br>\n",
      "                    <input type=\"checkbox\" id=\"municipality60\" checked> <label for=\"municipality60\">Presto</label><br>\n",
      "                    <input type=\"checkbox\" id=\"municipality61\" checked> <label for=\"municipality61\">Russellton</label><br>\n",
      "                    <input type=\"checkbox\" id=\"municipality62\" checked> <label for=\"municipality62\">Saxonburg</label><br>\n",
      "                    <input type=\"checkbox\" id=\"municipality63\" checked> <label for=\"municipality63\">Sewickley</label><br>\n",
      "                    <input type=\"checkbox\" id=\"municipality64\" checked> <label for=\"municipality64\">South Park</label><br>\n",
      "                    <input type=\"checkbox\" id=\"municipality65\" checked> <label for=\"municipality65\">Springdale</label><br>\n",
      "                    <input type=\"checkbox\" id=\"municipality66\" checked> <label for=\"municipality66\">Sturgeon</label><br>\n",
      "                    <input type=\"checkbox\" id=\"municipality67\" checked> <label for=\"municipality67\">Sutersville</label><br>\n",
      "                    <input type=\"checkbox\" id=\"municipality68\" checked> <label for=\"municipality68\">Tarentum</label><br>\n",
      "                    <input type=\"checkbox\" id=\"municipality69\" checked> <label for=\"municipality69\">Trafford</label><br>\n",
      "                    <input type=\"checkbox\" id=\"municipality70\" checked> <label for=\"municipality70\">Turtle Creek</label><br>\n",
      "                    <input type=\"checkbox\" id=\"municipality71\" checked> <label for=\"municipality71\">Valencia</label><br>\n",
      "                    <input type=\"checkbox\" id=\"municipality72\" checked> <label for=\"municipality72\">Verona</label><br>\n",
      "                    <input type=\"checkbox\" id=\"municipality73\" checked> <label for=\"municipality73\">Wall</label><br>\n",
      "                    <input type=\"checkbox\" id=\"municipality74\" checked> <label for=\"municipality74\">Warrendale</label><br>\n",
      "                    <input type=\"checkbox\" id=\"municipality75\" checked> <label for=\"municipality75\">West Elizabeth</label><br>\n",
      "                    <input type=\"checkbox\" id=\"municipality76\" checked> <label for=\"municipality76\">West Mifflin</label><br>\n",
      "                    <input type=\"checkbox\" id=\"municipality77\" checked> <label for=\"municipality77\">West Newton</label><br>\n",
      "                    <input type=\"checkbox\" id=\"municipality78\" checked> <label for=\"municipality78\">Wexford</label><br>\n"
     ]
    }
   ],
   "source": [
    "with open('C:\\\\projects\\\\allegheny_leasemap\\\\csvs\\\\companies.csv') as f:\n",
    "    data = list(csv.reader(f))\n",
    "\n",
    "for n,d in enumerate(data):\n",
    "    c = 'municipality'\n",
    "    s = d[0].title()\n",
    "    print(f'                    <input type=\"checkbox\" id=\"{c}{n}\" checked> <label for=\"{c}{n}\">{s}</label><br>')"
   ]
  }
 ],
 "metadata": {
  "kernelspec": {
   "display_name": "threeptnine",
   "language": "python",
   "name": "python3"
  },
  "language_info": {
   "codemirror_mode": {
    "name": "ipython",
    "version": 3
   },
   "file_extension": ".py",
   "mimetype": "text/x-python",
   "name": "python",
   "nbconvert_exporter": "python",
   "pygments_lexer": "ipython3",
   "version": "3.9.16"
  }
 },
 "nbformat": 4,
 "nbformat_minor": 2
}
